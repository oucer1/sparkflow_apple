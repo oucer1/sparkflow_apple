{
 "cells": [
  {
   "cell_type": "code",
   "execution_count": 80,
   "metadata": {
    "collapsed": true
   },
   "outputs": [],
   "source": [
    "from pyspark.sql import  SparkSession\n",
    "spark = SparkSession.builder.master(\"local[*]\")\\\n",
    ".appName(\"stockprice\").config(\"spark.excuter.memory\",\"6gb\").getOrCreate()\n",
    "sc = spark.sparkContext"
   ]
  },
  {
   "cell_type": "code",
   "execution_count": 81,
   "metadata": {
    "collapsed": true
   },
   "outputs": [],
   "source": [
    "from pyspark.ml.classification import DecisionTreeClassificationModel\n",
    "from pyspark.ml.classification import DecisionTreeClassifier\n",
    "from pyspark.ml import Pipeline,PipelineModel\n",
    "from pyspark.ml.evaluation import MulticlassClassificationEvaluator\n",
    "from pyspark.ml.linalg import Vector,Vectors\n",
    "from pyspark.sql import Row\n",
    "from pyspark.ml.feature import IndexToString,StringIndexer,VectorIndexer\n"
   ]
  },
  {
   "cell_type": "code",
   "execution_count": 82,
   "metadata": {
    "collapsed": true
   },
   "outputs": [],
   "source": [
    "def  f(x):\n",
    "    rel = {}\n",
    "    rel['fearures'] = Vectors.dense(float(x[0]),float(x[1]),float(x[2]),float(x[3]))\n",
    "    rel['label'] = str(x[4])\n",
    "    return rel"
   ]
  },
  {
   "cell_type": "code",
   "execution_count": 83,
   "metadata": {
    "collapsed": true
   },
   "outputs": [],
   "source": [
    "data = spark.sparkContext.textFile('iristree.txt').\\\n",
    "    map(lambda line: line.split(',')).\\\n",
    "    map(lambda p:Row(**f(p))).\\\n",
    "    toDF()"
   ]
  },
  {
   "cell_type": "code",
   "execution_count": 84,
   "metadata": {},
   "outputs": [
    {
     "name": "stdout",
     "output_type": "stream",
     "text": [
      "+-----------------+-----------+\n",
      "|         fearures|      label|\n",
      "+-----------------+-----------+\n",
      "|[5.1,3.5,1.4,0.2]|Iris-setosa|\n",
      "|[4.9,3.0,1.4,0.2]|Iris-setosa|\n",
      "|[4.7,3.2,1.3,0.2]|Iris-setosa|\n",
      "|[4.6,3.1,1.5,0.2]|Iris-setosa|\n",
      "|[5.0,3.6,1.4,0.2]|Iris-setosa|\n",
      "+-----------------+-----------+\n",
      "only showing top 5 rows\n",
      "\n"
     ]
    }
   ],
   "source": [
    "data.show(5)"
   ]
  },
  {
   "cell_type": "code",
   "execution_count": 85,
   "metadata": {
    "collapsed": true
   },
   "outputs": [],
   "source": [
    "labelIndex = StringIndexer(inputCol='label',outputCol='indexlabel').fit(data)"
   ]
  },
  {
   "cell_type": "code",
   "execution_count": 86,
   "metadata": {},
   "outputs": [],
   "source": [
    "featureIndex = VectorIndexer(inputCol='fearures',outputCol='indexfeatures',maxCategories=4).fit(data)"
   ]
  },
  {
   "cell_type": "code",
   "execution_count": 87,
   "metadata": {
    "collapsed": true
   },
   "outputs": [],
   "source": [
    "laberCoventer = IndexToString(inputCol='indexlabel',outputCol='predictionlabel',labels=labelIndex.labels)"
   ]
  },
  {
   "cell_type": "code",
   "execution_count": 88,
   "metadata": {},
   "outputs": [],
   "source": [
    "training,testing = data.randomSplit([0.7,0.3],seed = 2020)"
   ]
  },
  {
   "cell_type": "code",
   "execution_count": 89,
   "metadata": {
    "collapsed": true
   },
   "outputs": [],
   "source": [
    "dfClassifer = DecisionTreeClassifier(featuresCol='indexfeatures',labelCol='indexlabel',\n",
    "                                    )"
   ]
  },
  {
   "cell_type": "code",
   "execution_count": 90,
   "metadata": {
    "collapsed": true
   },
   "outputs": [],
   "source": [
    "Piple = Pipeline(stages=[labelIndex,featureIndex,laberCoventer,dfClassifer])"
   ]
  },
  {
   "cell_type": "code",
   "execution_count": 91,
   "metadata": {},
   "outputs": [],
   "source": [
    "model = Piple.fit(training)"
   ]
  },
  {
   "cell_type": "code",
   "execution_count": 92,
   "metadata": {
    "collapsed": true
   },
   "outputs": [],
   "source": [
    "dfPrediction = model.transform(testing)"
   ]
  },
  {
   "cell_type": "code",
   "execution_count": 93,
   "metadata": {},
   "outputs": [
    {
     "name": "stdout",
     "output_type": "stream",
     "text": [
      "+-----------------+---------------+----------+-----------------+---------------+--------------+-------------+----------+\n",
      "|         fearures|          label|indexlabel|    indexfeatures|predictionlabel| rawPrediction|  probability|prediction|\n",
      "+-----------------+---------------+----------+-----------------+---------------+--------------+-------------+----------+\n",
      "|[4.6,3.6,1.0,0.2]|    Iris-setosa|       0.0|[4.6,3.6,1.0,0.2]|    Iris-setosa|[39.0,0.0,0.0]|[1.0,0.0,0.0]|       0.0|\n",
      "|[4.8,3.0,1.4,0.3]|    Iris-setosa|       0.0|[4.8,3.0,1.4,0.3]|    Iris-setosa|[39.0,0.0,0.0]|[1.0,0.0,0.0]|       0.0|\n",
      "|[4.8,3.1,1.6,0.2]|    Iris-setosa|       0.0|[4.8,3.1,1.6,0.2]|    Iris-setosa|[39.0,0.0,0.0]|[1.0,0.0,0.0]|       0.0|\n",
      "|[4.8,3.4,1.9,0.2]|    Iris-setosa|       0.0|[4.8,3.4,1.9,0.2]|    Iris-setosa|[39.0,0.0,0.0]|[1.0,0.0,0.0]|       0.0|\n",
      "|[4.9,2.4,3.3,1.0]|Iris-versicolor|       1.0|[4.9,2.4,3.3,1.0]|Iris-versicolor|[0.0,35.0,0.0]|[0.0,1.0,0.0]|       1.0|\n",
      "+-----------------+---------------+----------+-----------------+---------------+--------------+-------------+----------+\n",
      "only showing top 5 rows\n",
      "\n"
     ]
    }
   ],
   "source": [
    "dfPrediction.show(5)"
   ]
  },
  {
   "cell_type": "code",
   "execution_count": 94,
   "metadata": {},
   "outputs": [
    {
     "name": "stdout",
     "output_type": "stream",
     "text": [
      "+---------------+---------------+-----------------+\n",
      "|predictionlabel|          label|         fearures|\n",
      "+---------------+---------------+-----------------+\n",
      "|    Iris-setosa|    Iris-setosa|[4.6,3.6,1.0,0.2]|\n",
      "|    Iris-setosa|    Iris-setosa|[4.8,3.0,1.4,0.3]|\n",
      "|    Iris-setosa|    Iris-setosa|[4.8,3.1,1.6,0.2]|\n",
      "|    Iris-setosa|    Iris-setosa|[4.8,3.4,1.9,0.2]|\n",
      "|Iris-versicolor|Iris-versicolor|[4.9,2.4,3.3,1.0]|\n",
      "|    Iris-setosa|    Iris-setosa|[4.9,3.1,1.5,0.1]|\n",
      "|    Iris-setosa|    Iris-setosa|[4.9,3.1,1.5,0.1]|\n",
      "|    Iris-setosa|    Iris-setosa|[5.0,3.0,1.6,0.2]|\n",
      "|    Iris-setosa|    Iris-setosa|[5.1,3.3,1.7,0.5]|\n",
      "|    Iris-setosa|    Iris-setosa|[5.1,3.8,1.5,0.3]|\n",
      "|    Iris-setosa|    Iris-setosa|[5.1,3.8,1.9,0.4]|\n",
      "|    Iris-setosa|    Iris-setosa|[5.7,4.4,1.5,0.4]|\n",
      "|Iris-versicolor|Iris-versicolor|[6.1,2.8,4.0,1.3]|\n",
      "|Iris-versicolor|Iris-versicolor|[6.1,2.8,4.7,1.2]|\n",
      "|Iris-versicolor|Iris-versicolor|[6.1,2.9,4.7,1.4]|\n",
      "|Iris-versicolor|Iris-versicolor|[6.5,2.8,4.6,1.5]|\n",
      "|Iris-versicolor|Iris-versicolor|[6.6,3.0,4.4,1.4]|\n",
      "|Iris-versicolor|Iris-versicolor|[6.7,3.0,5.0,1.7]|\n",
      "|Iris-versicolor|Iris-versicolor|[5.1,2.5,3.0,1.1]|\n",
      "|Iris-versicolor|Iris-versicolor|[5.4,3.0,4.5,1.5]|\n",
      "+---------------+---------------+-----------------+\n",
      "only showing top 20 rows\n",
      "\n"
     ]
    }
   ],
   "source": [
    "dfPrediction.select('predictionlabel','label','fearures').show()"
   ]
  },
  {
   "cell_type": "code",
   "execution_count": 97,
   "metadata": {
    "collapsed": true
   },
   "outputs": [],
   "source": [
    "evaluator = MulticlassClassificationEvaluator(predictionCol='prediction',labelCol='indexlabel') "
   ]
  },
  {
   "cell_type": "code",
   "execution_count": 98,
   "metadata": {},
   "outputs": [
    {
     "data": {
      "text/plain": [
       "0.9411764705882353"
      ]
     },
     "execution_count": 98,
     "metadata": {},
     "output_type": "execute_result"
    }
   ],
   "source": [
    "dfAccuracy = evaluator.evaluate(dfPrediction)\n",
    "dfAccuracy"
   ]
  },
  {
   "cell_type": "code",
   "execution_count": null,
   "metadata": {
    "collapsed": true
   },
   "outputs": [],
   "source": []
  }
 ],
 "metadata": {
  "kernelspec": {
   "display_name": "Python 3",
   "language": "python",
   "name": "python3"
  },
  "language_info": {
   "codemirror_mode": {
    "name": "ipython",
    "version": 3
   },
   "file_extension": ".py",
   "mimetype": "text/x-python",
   "name": "python",
   "nbconvert_exporter": "python",
   "pygments_lexer": "ipython3",
   "version": "3.6.1"
  }
 },
 "nbformat": 4,
 "nbformat_minor": 2
}
